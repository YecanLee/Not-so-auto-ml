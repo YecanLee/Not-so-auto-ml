{
 "cells": [
  {
   "cell_type": "code",
   "execution_count": 1,
   "metadata": {},
   "outputs": [],
   "source": [
    "import pandas as pd\n",
    "import numpy as np\n",
    "from sklearn.preprocessing import LabelEncoder\n",
    "from sklearn.model_selection import train_test_split\n",
    "\n",
    "train_path = 'train_new.csv'\n",
    "train_data = pd.read_csv(train_path)"
   ]
  },
  {
   "cell_type": "code",
   "execution_count": 2,
   "metadata": {},
   "outputs": [],
   "source": [
    "from autosklearn.regression import AutoSklearnRegressor"
   ]
  },
  {
   "cell_type": "code",
   "execution_count": 3,
   "metadata": {},
   "outputs": [
    {
     "name": "stdout",
     "output_type": "stream",
     "text": [
      "                ID District      Block  CultLand  CropCultLand  \\\n",
      "0  ID_GTFAC7PEVWQ9  Nalanda  Noorsarai        45            40   \n",
      "1  ID_TK40ARLSPOKS  Nalanda     Rajgir        26            26   \n",
      "2  ID_1FJY2CRIMLZZ     Gaya      Gurua        10            10   \n",
      "3  ID_I3IPXS4DB7NE     Gaya      Gurua        15            15   \n",
      "4  ID_4T8YQWXWHB4A  Nalanda  Noorsarai        60            60   \n",
      "\n",
      "                               LandPreparationMethod CropTillageDate  \\\n",
      "0               TractorPlough FourWheelTracRotavator      2022-07-20   \n",
      "1  WetTillagePuddling TractorPlough FourWheelTrac...      2022-07-18   \n",
      "2               TractorPlough FourWheelTracRotavator      2022-06-30   \n",
      "3               TractorPlough FourWheelTracRotavator      2022-06-16   \n",
      "4                   TractorPlough WetTillagePuddling      2022-07-19   \n",
      "\n",
      "   CropTillageDepth         CropEstMethod RcNursEstDate  ... Harv_method  \\\n",
      "0                 5  Manual_PuddledRandom    2022-06-27  ...     machine   \n",
      "1                 5  Manual_PuddledRandom    2022-06-20  ...        hand   \n",
      "2                 6  Manual_PuddledRandom    2022-06-20  ...        hand   \n",
      "3                 6  Manual_PuddledRandom    2022-06-17  ...        hand   \n",
      "4                 4  Manual_PuddledRandom    2022-06-21  ...     machine   \n",
      "\n",
      "    Harv_date Harv_hand_rent Threshing_date  Threshing_method Residue_length  \\\n",
      "0  2022-11-16            NaN     2022-11-16           machine             30   \n",
      "1  2022-11-25            3.0     2022-12-24           machine             24   \n",
      "2  2022-12-12          480.0     2023-01-11           machine             30   \n",
      "3  2022-12-02          240.0     2022-12-29              hand             26   \n",
      "4  2022-11-30            NaN     2022-12-02           machine             24   \n",
      "\n",
      "  Residue_perc     Stubble_use      Acre Yield  \n",
      "0           40  plowed_in_soil  0.312500   600  \n",
      "1           10  plowed_in_soil  0.312500   600  \n",
      "2           10  plowed_in_soil  0.148148   225  \n",
      "3           10  plowed_in_soil  0.222222   468  \n",
      "4           40  plowed_in_soil  0.468750   550  \n",
      "\n",
      "[5 rows x 44 columns]\n"
     ]
    }
   ],
   "source": [
    "print(train_data.head())"
   ]
  },
  {
   "cell_type": "markdown",
   "metadata": {},
   "source": [
    "A very simple preprocessing method to test if AutoML tools are able to figure out the best model with a non-optimal preprocessing."
   ]
  },
  {
   "cell_type": "code",
   "execution_count": 4,
   "metadata": {},
   "outputs": [],
   "source": [
    "# Convert datetime columns to datetime format and extract year, month, day, try to use this simple preprocessing method first\n",
    "datetime_cols = ['CropTillageDate', 'RcNursEstDate', 'Harv_date', 'Threshing_date']\n",
    "for col in datetime_cols:\n",
    "    train_data[col] = pd.to_datetime(train_data[col])\n",
    "    train_data[col + '_year'] = train_data[col].dt.year\n",
    "    train_data[col + '_month'] = train_data[col].dt.month\n",
    "    train_data[col + '_day'] = train_data[col].dt.day\n",
    "\n",
    "# Drop original datetime columns, only use new columns\n",
    "train_data.drop(columns=datetime_cols, inplace=True)\n",
    "\n",
    "# Encode categorical columns\n",
    "categorical_cols = train_data.select_dtypes(include=['object']).columns\n",
    "label_encoders = {}\n",
    "for col in categorical_cols:\n",
    "    le = LabelEncoder()\n",
    "    train_data[col] = le.fit_transform(train_data[col])\n",
    "    label_encoders[col] = le\n",
    "\n",
    "\n",
    "# Preparing the data for modeling\n",
    "# Training Features\n",
    "X = train_data.drop(['ID', 'Yield'], axis=1) \n",
    "# Target Feature\n",
    "y = train_data['Yield']  \n",
    "\n",
    "# Splitting the dataset into training and validation sets\n",
    "X_train, X_test, y_train, y_test = train_test_split(X, y, test_size=0.2, random_state=42)"
   ]
  },
  {
   "cell_type": "markdown",
   "metadata": {},
   "source": [
    "Fit AutoML pipeline on the train datasets."
   ]
  },
  {
   "cell_type": "code",
   "execution_count": 5,
   "metadata": {},
   "outputs": [
    {
     "data": {
      "text/plain": [
       "AutoSklearnRegressor(ensemble_class=<class 'autosklearn.ensembles.ensemble_selection.EnsembleSelection'>,\n",
       "                     memory_limit=None, n_jobs=-1, per_run_time_limit=360)"
      ]
     },
     "execution_count": 5,
     "metadata": {},
     "output_type": "execute_result"
    }
   ],
   "source": [
    "automl = AutoSklearnRegressor(time_left_for_this_task=3600, per_run_time_limit=360, n_jobs=-1, memory_limit=None)\n",
    "automl.fit(X_train, y_train)"
   ]
  },
  {
   "cell_type": "markdown",
   "metadata": {},
   "source": [
    "Predict on the test dataset."
   ]
  },
  {
   "cell_type": "code",
   "execution_count": 6,
   "metadata": {},
   "outputs": [
    {
     "name": "stdout",
     "output_type": "stream",
     "text": [
      "{72: {'model_id': 72, 'rank': 1, 'cost': 0.08095480120730092, 'ensemble_weight': 0.16000000000000003, 'data_preprocessor': <autosklearn.pipeline.components.data_preprocessing.DataPreprocessorChoice object at 0x7f15da14cc10>, 'feature_preprocessor': <autosklearn.pipeline.components.feature_preprocessing.FeaturePreprocessorChoice object at 0x7f155cb2b910>, 'regressor': <autosklearn.pipeline.components.regression.RegressorChoice object at 0x7f155cb2b160>, 'sklearn_regressor': HistGradientBoostingRegressor(l2_regularization=0.0031095164511457042,\n",
      "                              learning_rate=0.0456113860575098, max_iter=512,\n",
      "                              max_leaf_nodes=4, min_samples_leaf=4,\n",
      "                              n_iter_no_change=1, random_state=1,\n",
      "                              validation_fraction=0.24294893242634646,\n",
      "                              warm_start=True)}, 163: {'model_id': 163, 'rank': 2, 'cost': 0.09474572964521488, 'ensemble_weight': 0.24000000000000002, 'data_preprocessor': <autosklearn.pipeline.components.data_preprocessing.DataPreprocessorChoice object at 0x7f15d8f1d970>, 'feature_preprocessor': <autosklearn.pipeline.components.feature_preprocessing.FeaturePreprocessorChoice object at 0x7f1466300b80>, 'regressor': <autosklearn.pipeline.components.regression.RegressorChoice object at 0x7f1466300490>, 'sklearn_regressor': SVR(C=8.21289595591389, coef0=0.9754136591989566, degree=5,\n",
      "    epsilon=0.0012389338785043752, gamma=0.0013446497219776897, kernel='poly',\n",
      "    shrinking=False, tol=0.0017309021581722564, verbose=0)}, 245: {'model_id': 245, 'rank': 3, 'cost': 0.0943289670211056, 'ensemble_weight': 0.12000000000000001, 'data_preprocessor': <autosklearn.pipeline.components.data_preprocessing.DataPreprocessorChoice object at 0x7f15d8d7b0d0>, 'feature_preprocessor': <autosklearn.pipeline.components.feature_preprocessing.FeaturePreprocessorChoice object at 0x7f14a83d6e20>, 'regressor': <autosklearn.pipeline.components.regression.RegressorChoice object at 0x7f1499efdf70>, 'sklearn_regressor': HistGradientBoostingRegressor(l2_regularization=0.0006431085511442688,\n",
      "                              learning_rate=0.16776102922504812, max_iter=512,\n",
      "                              max_leaf_nodes=5, min_samples_leaf=2,\n",
      "                              n_iter_no_change=17, random_state=1,\n",
      "                              warm_start=True)}, 247: {'model_id': 247, 'rank': 4, 'cost': 0.09141182738323805, 'ensemble_weight': 0.10000000000000002, 'data_preprocessor': <autosklearn.pipeline.components.data_preprocessing.DataPreprocessorChoice object at 0x7f147ba23520>, 'feature_preprocessor': <autosklearn.pipeline.components.feature_preprocessing.FeaturePreprocessorChoice object at 0x7f1494ca5280>, 'regressor': <autosklearn.pipeline.components.regression.RegressorChoice object at 0x7f1510251880>, 'sklearn_regressor': MLPRegressor(alpha=2.5384683959193097e-05, beta_1=0.999, beta_2=0.9,\n",
      "             hidden_layer_sizes=(155, 155),\n",
      "             learning_rate_init=0.0006944934435258172, max_iter=64,\n",
      "             n_iter_no_change=32, random_state=1, validation_fraction=0.0,\n",
      "             verbose=0, warm_start=True)}, 252: {'model_id': 252, 'rank': 5, 'cost': 0.09909135351179832, 'ensemble_weight': 0.10000000000000002, 'data_preprocessor': <autosklearn.pipeline.components.data_preprocessing.DataPreprocessorChoice object at 0x7f14880c4cd0>, 'feature_preprocessor': <autosklearn.pipeline.components.feature_preprocessing.FeaturePreprocessorChoice object at 0x7f14a17cd1f0>, 'regressor': <autosklearn.pipeline.components.regression.RegressorChoice object at 0x7f14a17cd790>, 'sklearn_regressor': HistGradientBoostingRegressor(l2_regularization=1.4048798878855834e-06,\n",
      "                              learning_rate=0.46539002489035514, max_iter=512,\n",
      "                              max_leaf_nodes=4, min_samples_leaf=1,\n",
      "                              n_iter_no_change=0, random_state=1,\n",
      "                              validation_fraction=None, warm_start=True)}, 262: {'model_id': 262, 'rank': 6, 'cost': 0.09929734913181443, 'ensemble_weight': 0.04000000000000001, 'data_preprocessor': <autosklearn.pipeline.components.data_preprocessing.DataPreprocessorChoice object at 0x7f148a84f670>, 'feature_preprocessor': <autosklearn.pipeline.components.feature_preprocessing.FeaturePreprocessorChoice object at 0x7f15d85c5550>, 'regressor': <autosklearn.pipeline.components.regression.RegressorChoice object at 0x7f14b2f706d0>, 'sklearn_regressor': MLPRegressor(alpha=1.6706788591618034e-05, beta_1=0.999, beta_2=0.9,\n",
      "             hidden_layer_sizes=(25, 25, 25),\n",
      "             learning_rate_init=0.0009710995692973798, max_iter=128,\n",
      "             n_iter_no_change=32, random_state=1, validation_fraction=0.0,\n",
      "             verbose=0, warm_start=True)}, 297: {'model_id': 297, 'rank': 7, 'cost': 0.0882156924031503, 'ensemble_weight': 0.04000000000000001, 'data_preprocessor': <autosklearn.pipeline.components.data_preprocessing.DataPreprocessorChoice object at 0x7f1494ae7eb0>, 'feature_preprocessor': <autosklearn.pipeline.components.feature_preprocessing.FeaturePreprocessorChoice object at 0x7f155c7d4f10>, 'regressor': <autosklearn.pipeline.components.regression.RegressorChoice object at 0x7f155c874460>, 'sklearn_regressor': HistGradientBoostingRegressor(l2_regularization=0.0002630915227261287,\n",
      "                              learning_rate=0.10326085929726851, max_iter=512,\n",
      "                              max_leaf_nodes=33, min_samples_leaf=5,\n",
      "                              n_iter_no_change=12, random_state=1,\n",
      "                              validation_fraction=0.25848378825961904,\n",
      "                              warm_start=True)}, 642: {'model_id': 642, 'rank': 8, 'cost': 0.09190936081852452, 'ensemble_weight': 0.020000000000000004, 'data_preprocessor': <autosklearn.pipeline.components.data_preprocessing.DataPreprocessorChoice object at 0x7f15d8c75310>, 'feature_preprocessor': <autosklearn.pipeline.components.feature_preprocessing.FeaturePreprocessorChoice object at 0x7f14a158ea30>, 'regressor': <autosklearn.pipeline.components.regression.RegressorChoice object at 0x7f14a158ee20>, 'sklearn_regressor': HistGradientBoostingRegressor(l2_regularization=5.298813565785184e-08,\n",
      "                              learning_rate=0.21315308052703835, max_iter=512,\n",
      "                              max_leaf_nodes=109, min_samples_leaf=3,\n",
      "                              n_iter_no_change=3, random_state=1,\n",
      "                              validation_fraction=None, warm_start=True)}, 652: {'model_id': 652, 'rank': 9, 'cost': 0.09490040093745633, 'ensemble_weight': 0.14000000000000004, 'data_preprocessor': <autosklearn.pipeline.components.data_preprocessing.DataPreprocessorChoice object at 0x7f15d8aac820>, 'feature_preprocessor': <autosklearn.pipeline.components.feature_preprocessing.FeaturePreprocessorChoice object at 0x7f14767b0370>, 'regressor': <autosklearn.pipeline.components.regression.RegressorChoice object at 0x7f14767b06a0>, 'sklearn_regressor': HistGradientBoostingRegressor(l2_regularization=1.3299364523927962e-07,\n",
      "                              learning_rate=0.17527208678850986, max_iter=512,\n",
      "                              max_leaf_nodes=125, min_samples_leaf=6,\n",
      "                              n_iter_no_change=0, random_state=1,\n",
      "                              validation_fraction=None, warm_start=True)}, 732: {'model_id': 732, 'rank': 10, 'cost': 0.08682519541732503, 'ensemble_weight': 0.04000000000000001, 'data_preprocessor': <autosklearn.pipeline.components.data_preprocessing.DataPreprocessorChoice object at 0x7f15d84d4a90>, 'feature_preprocessor': <autosklearn.pipeline.components.feature_preprocessing.FeaturePreprocessorChoice object at 0x7f15a8e5fe50>, 'regressor': <autosklearn.pipeline.components.regression.RegressorChoice object at 0x7f15a8e5fee0>, 'sklearn_regressor': SVR(C=12559.071616702588, epsilon=0.0825427876209216, gamma=0.11181770770207133,\n",
      "    tol=0.028192555016245985, verbose=0)}}\n"
     ]
    }
   ],
   "source": [
    "y_pred = automl.predict(X_test)\n",
    "# get the Score of the model\n",
    "# Calculate R2 score as a simple performance metric\n",
    "from sklearn.metrics import r2_score\n",
    "r2 = r2_score(y_test, y_pred)\n",
    "\n",
    "r2\n",
    "\n",
    "show_modes_str=automl.show_models()\n",
    "print(show_modes_str)"
   ]
  },
  {
   "cell_type": "markdown",
   "metadata": {},
   "source": [
    "Show statistical analysis results."
   ]
  },
  {
   "cell_type": "code",
   "execution_count": 7,
   "metadata": {},
   "outputs": [
    {
     "name": "stdout",
     "output_type": "stream",
     "text": [
      "auto-sklearn results:\n",
      "  Dataset name: 4fd5909c-dbeb-11ee-b7d7-955f16c1bb91\n",
      "  Metric: r2\n",
      "  Best validation score: 0.919045\n",
      "  Number of target algorithm runs: 1100\n",
      "  Number of successful target algorithm runs: 959\n",
      "  Number of crashed target algorithm runs: 87\n",
      "  Number of target algorithms that exceeded the time limit: 53\n",
      "  Number of target algorithms that exceeded the memory limit: 1\n",
      "\n"
     ]
    }
   ],
   "source": [
    "sprint_statistics_str = automl.sprint_statistics()\n",
    "print(sprint_statistics_str)"
   ]
  },
  {
   "cell_type": "markdown",
   "metadata": {},
   "source": [
    "Check the model leaderboard"
   ]
  },
  {
   "cell_type": "code",
   "execution_count": 8,
   "metadata": {},
   "outputs": [
    {
     "data": {
      "text/html": [
       "<div>\n",
       "<style scoped>\n",
       "    .dataframe tbody tr th:only-of-type {\n",
       "        vertical-align: middle;\n",
       "    }\n",
       "\n",
       "    .dataframe tbody tr th {\n",
       "        vertical-align: top;\n",
       "    }\n",
       "\n",
       "    .dataframe thead th {\n",
       "        text-align: right;\n",
       "    }\n",
       "</style>\n",
       "<table border=\"1\" class=\"dataframe\">\n",
       "  <thead>\n",
       "    <tr style=\"text-align: right;\">\n",
       "      <th></th>\n",
       "      <th>rank</th>\n",
       "      <th>ensemble_weight</th>\n",
       "      <th>type</th>\n",
       "      <th>cost</th>\n",
       "      <th>duration</th>\n",
       "    </tr>\n",
       "    <tr>\n",
       "      <th>model_id</th>\n",
       "      <th></th>\n",
       "      <th></th>\n",
       "      <th></th>\n",
       "      <th></th>\n",
       "      <th></th>\n",
       "    </tr>\n",
       "  </thead>\n",
       "  <tbody>\n",
       "    <tr>\n",
       "      <th>72</th>\n",
       "      <td>1</td>\n",
       "      <td>0.16</td>\n",
       "      <td>gradient_boosting</td>\n",
       "      <td>0.080955</td>\n",
       "      <td>32.248499</td>\n",
       "    </tr>\n",
       "    <tr>\n",
       "      <th>732</th>\n",
       "      <td>2</td>\n",
       "      <td>0.04</td>\n",
       "      <td>libsvm_svr</td>\n",
       "      <td>0.086825</td>\n",
       "      <td>2.015737</td>\n",
       "    </tr>\n",
       "    <tr>\n",
       "      <th>297</th>\n",
       "      <td>3</td>\n",
       "      <td>0.04</td>\n",
       "      <td>gradient_boosting</td>\n",
       "      <td>0.088216</td>\n",
       "      <td>1.694268</td>\n",
       "    </tr>\n",
       "    <tr>\n",
       "      <th>247</th>\n",
       "      <td>4</td>\n",
       "      <td>0.10</td>\n",
       "      <td>mlp</td>\n",
       "      <td>0.091412</td>\n",
       "      <td>2.109581</td>\n",
       "    </tr>\n",
       "    <tr>\n",
       "      <th>642</th>\n",
       "      <td>5</td>\n",
       "      <td>0.02</td>\n",
       "      <td>gradient_boosting</td>\n",
       "      <td>0.091909</td>\n",
       "      <td>3.608867</td>\n",
       "    </tr>\n",
       "    <tr>\n",
       "      <th>245</th>\n",
       "      <td>6</td>\n",
       "      <td>0.12</td>\n",
       "      <td>gradient_boosting</td>\n",
       "      <td>0.094329</td>\n",
       "      <td>1.289953</td>\n",
       "    </tr>\n",
       "    <tr>\n",
       "      <th>163</th>\n",
       "      <td>7</td>\n",
       "      <td>0.24</td>\n",
       "      <td>libsvm_svr</td>\n",
       "      <td>0.094746</td>\n",
       "      <td>3.587713</td>\n",
       "    </tr>\n",
       "    <tr>\n",
       "      <th>652</th>\n",
       "      <td>8</td>\n",
       "      <td>0.14</td>\n",
       "      <td>gradient_boosting</td>\n",
       "      <td>0.094900</td>\n",
       "      <td>3.913848</td>\n",
       "    </tr>\n",
       "    <tr>\n",
       "      <th>252</th>\n",
       "      <td>9</td>\n",
       "      <td>0.10</td>\n",
       "      <td>gradient_boosting</td>\n",
       "      <td>0.099091</td>\n",
       "      <td>1.106634</td>\n",
       "    </tr>\n",
       "    <tr>\n",
       "      <th>262</th>\n",
       "      <td>10</td>\n",
       "      <td>0.04</td>\n",
       "      <td>mlp</td>\n",
       "      <td>0.099297</td>\n",
       "      <td>1.253642</td>\n",
       "    </tr>\n",
       "  </tbody>\n",
       "</table>\n",
       "</div>"
      ],
      "text/plain": [
       "          rank  ensemble_weight               type      cost   duration\n",
       "model_id                                                               \n",
       "72           1             0.16  gradient_boosting  0.080955  32.248499\n",
       "732          2             0.04         libsvm_svr  0.086825   2.015737\n",
       "297          3             0.04  gradient_boosting  0.088216   1.694268\n",
       "247          4             0.10                mlp  0.091412   2.109581\n",
       "642          5             0.02  gradient_boosting  0.091909   3.608867\n",
       "245          6             0.12  gradient_boosting  0.094329   1.289953\n",
       "163          7             0.24         libsvm_svr  0.094746   3.587713\n",
       "652          8             0.14  gradient_boosting  0.094900   3.913848\n",
       "252          9             0.10  gradient_boosting  0.099091   1.106634\n",
       "262         10             0.04                mlp  0.099297   1.253642"
      ]
     },
     "execution_count": 8,
     "metadata": {},
     "output_type": "execute_result"
    }
   ],
   "source": [
    "automl.leaderboard()"
   ]
  },
  {
   "cell_type": "markdown",
   "metadata": {},
   "source": [
    "However, the mean_sqaured_error still shows a huge gap with the normal methods without AutoML"
   ]
  },
  {
   "cell_type": "code",
   "execution_count": 10,
   "metadata": {},
   "outputs": [
    {
     "name": "stdout",
     "output_type": "stream",
     "text": [
      "119.21914224098232\n"
     ]
    }
   ],
   "source": [
    "from sklearn.metrics import mean_squared_error\n",
    "mse = mean_squared_error(y_test, y_pred)\n",
    "rmse = np.sqrt(mse)\n",
    "print(rmse)"
   ]
  },
  {
   "cell_type": "markdown",
   "metadata": {},
   "source": [
    "Check the permutation importance of the model parameters"
   ]
  },
  {
   "cell_type": "code",
   "execution_count": 13,
   "metadata": {},
   "outputs": [],
   "source": [
    "from sklearn.inspection import plot_partial_dependence, permutation_importance\n",
    "import matplotlib.pyplot as plt\n",
    "r = permutation_importance(automl, X_test, y_test, n_repeats=10, random_state=0)\n",
    "\n",
    "sort_idx = r.importances_mean.argsort()[::-1]\n",
    "\n",
    "plt.boxplot(\n",
    "    r.importances[sort_idx].T, labels=[train_data.columns[i] for i in sort_idx]\n",
    ")\n",
    "\n",
    "plt.xticks(rotation=90)\n",
    "plt.tight_layout()\n",
    "plt.show()\n",
    "\n",
    "for i in sort_idx[::-1]:\n",
    "    print(\n",
    "        f\"{train_data.columns[i]:10s}: {r.importances_mean[i]:.3f} +/- \"\n",
    "        f\"{r.importances_std[i]:.3f}\"\n",
    "    )"
   ]
  },
  {
   "cell_type": "code",
   "execution_count": null,
   "metadata": {},
   "outputs": [],
   "source": [
    "features = [1, 2]\n",
    "plot_partial_dependence(\n",
    "    automl,\n",
    "    train_data.values,\n",
    "    features=features,\n",
    "    grid_resolution=5,\n",
    "    kind=\"both\",\n",
    "    feature_names=train_data.columns,\n",
    ")\n",
    "plt.tight_layout()\n",
    "plt.show()"
   ]
  },
  {
   "cell_type": "code",
   "execution_count": null,
   "metadata": {},
   "outputs": [],
   "source": [
    "features = [[1, 2]]\n",
    "plot_partial_dependence(\n",
    "    automl,\n",
    "    train_data.values,\n",
    "    features=features,\n",
    "    grid_resolution=5,\n",
    "    feature_names=train_data.columns,\n",
    ")\n",
    "plt.tight_layout()\n",
    "plt.show()"
   ]
  }
 ],
 "metadata": {
  "kernelspec": {
   "display_name": "automl",
   "language": "python",
   "name": "python3"
  },
  "language_info": {
   "codemirror_mode": {
    "name": "ipython",
    "version": 3
   },
   "file_extension": ".py",
   "mimetype": "text/x-python",
   "name": "python",
   "nbconvert_exporter": "python",
   "pygments_lexer": "ipython3",
   "version": "3.8.0"
  }
 },
 "nbformat": 4,
 "nbformat_minor": 2
}

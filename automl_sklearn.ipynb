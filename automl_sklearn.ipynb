{
 "cells": [
  {
   "cell_type": "code",
   "execution_count": 1,
   "metadata": {},
   "outputs": [],
   "source": [
    "import pandas as pd\n",
    "import numpy as np\n",
    "from sklearn.preprocessing import LabelEncoder\n",
    "from sklearn.model_selection import train_test_split\n",
    "\n",
    "train_path = 'train_new.csv'\n",
    "train_data = pd.read_csv(train_path)"
   ]
  },
  {
   "cell_type": "code",
   "execution_count": 2,
   "metadata": {},
   "outputs": [],
   "source": [
    "from autosklearn.regression import AutoSklearnRegressor"
   ]
  },
  {
   "cell_type": "code",
   "execution_count": 3,
   "metadata": {},
   "outputs": [
    {
     "name": "stdout",
     "output_type": "stream",
     "text": [
      "                ID District      Block  CultLand  CropCultLand  \\\n",
      "0  ID_GTFAC7PEVWQ9  Nalanda  Noorsarai        45            40   \n",
      "1  ID_TK40ARLSPOKS  Nalanda     Rajgir        26            26   \n",
      "2  ID_1FJY2CRIMLZZ     Gaya      Gurua        10            10   \n",
      "3  ID_I3IPXS4DB7NE     Gaya      Gurua        15            15   \n",
      "4  ID_4T8YQWXWHB4A  Nalanda  Noorsarai        60            60   \n",
      "\n",
      "                               LandPreparationMethod CropTillageDate  \\\n",
      "0               TractorPlough FourWheelTracRotavator      2022-07-20   \n",
      "1  WetTillagePuddling TractorPlough FourWheelTrac...      2022-07-18   \n",
      "2               TractorPlough FourWheelTracRotavator      2022-06-30   \n",
      "3               TractorPlough FourWheelTracRotavator      2022-06-16   \n",
      "4                   TractorPlough WetTillagePuddling      2022-07-19   \n",
      "\n",
      "   CropTillageDepth         CropEstMethod RcNursEstDate  ... Harv_method  \\\n",
      "0                 5  Manual_PuddledRandom    2022-06-27  ...     machine   \n",
      "1                 5  Manual_PuddledRandom    2022-06-20  ...        hand   \n",
      "2                 6  Manual_PuddledRandom    2022-06-20  ...        hand   \n",
      "3                 6  Manual_PuddledRandom    2022-06-17  ...        hand   \n",
      "4                 4  Manual_PuddledRandom    2022-06-21  ...     machine   \n",
      "\n",
      "    Harv_date Harv_hand_rent Threshing_date  Threshing_method Residue_length  \\\n",
      "0  2022-11-16            NaN     2022-11-16           machine             30   \n",
      "1  2022-11-25            3.0     2022-12-24           machine             24   \n",
      "2  2022-12-12          480.0     2023-01-11           machine             30   \n",
      "3  2022-12-02          240.0     2022-12-29              hand             26   \n",
      "4  2022-11-30            NaN     2022-12-02           machine             24   \n",
      "\n",
      "  Residue_perc     Stubble_use      Acre Yield  \n",
      "0           40  plowed_in_soil  0.312500   600  \n",
      "1           10  plowed_in_soil  0.312500   600  \n",
      "2           10  plowed_in_soil  0.148148   225  \n",
      "3           10  plowed_in_soil  0.222222   468  \n",
      "4           40  plowed_in_soil  0.468750   550  \n",
      "\n",
      "[5 rows x 44 columns]\n"
     ]
    }
   ],
   "source": [
    "print(train_data.head())"
   ]
  },
  {
   "cell_type": "markdown",
   "metadata": {},
   "source": [
    "A very simple preprocessing method to test if AutoML tools are able to figure out the best model with a non-optimal preprocessing."
   ]
  },
  {
   "cell_type": "code",
   "execution_count": 4,
   "metadata": {},
   "outputs": [],
   "source": [
    "# Convert datetime columns to datetime format and extract year, month, day, try to use this simple preprocessing method first\n",
    "datetime_cols = ['CropTillageDate', 'RcNursEstDate', 'Harv_date', 'Threshing_date']\n",
    "for col in datetime_cols:\n",
    "    train_data[col] = pd.to_datetime(train_data[col])\n",
    "    train_data[col + '_year'] = train_data[col].dt.year\n",
    "    train_data[col + '_month'] = train_data[col].dt.month\n",
    "    train_data[col + '_day'] = train_data[col].dt.day\n",
    "\n",
    "# Drop original datetime columns, only use new columns\n",
    "train_data.drop(columns=datetime_cols, inplace=True)\n",
    "\n",
    "# Encode categorical columns\n",
    "categorical_cols = train_data.select_dtypes(include=['object']).columns\n",
    "label_encoders = {}\n",
    "for col in categorical_cols:\n",
    "    le = LabelEncoder()\n",
    "    train_data[col] = le.fit_transform(train_data[col])\n",
    "    label_encoders[col] = le\n",
    "\n",
    "\n",
    "# Preparing the data for modeling\n",
    "# Training Features\n",
    "X = train_data.drop(['ID', 'Yield'], axis=1) \n",
    "# Target Feature\n",
    "y = train_data['Yield']  \n",
    "\n",
    "# Splitting the dataset into training and validation sets\n",
    "X_train, X_test, y_train, y_test = train_test_split(X, y, test_size=0.2, random_state=42)"
   ]
  },
  {
   "cell_type": "markdown",
   "metadata": {},
   "source": [
    "Fit AutoML pipeline on the train datasets."
   ]
  },
  {
   "cell_type": "code",
   "execution_count": 5,
   "metadata": {},
   "outputs": [
    {
     "data": {
      "text/plain": [
       "AutoSklearnRegressor(ensemble_class=<class 'autosklearn.ensembles.ensemble_selection.EnsembleSelection'>,\n",
       "                     memory_limit=None, n_jobs=-1, per_run_time_limit=29,\n",
       "                     time_left_for_this_task=60)"
      ]
     },
     "execution_count": 5,
     "metadata": {},
     "output_type": "execute_result"
    }
   ],
   "source": [
    "automl = AutoSklearnRegressor(time_left_for_this_task=60, per_run_time_limit=29, n_jobs=-1, memory_limit=None)\n",
    "automl.fit(X_train, y_train)"
   ]
  },
  {
   "cell_type": "markdown",
   "metadata": {},
   "source": [
    "Predict on the test dataset."
   ]
  },
  {
   "cell_type": "code",
   "execution_count": 6,
   "metadata": {},
   "outputs": [
    {
     "name": "stdout",
     "output_type": "stream",
     "text": [
      "{2: {'model_id': 2, 'rank': 1, 'cost': 0.0964945622365625, 'ensemble_weight': 0.48000000000000004, 'data_preprocessor': <autosklearn.pipeline.components.data_preprocessing.DataPreprocessorChoice object at 0x7f3a92b04b50>, 'feature_preprocessor': <autosklearn.pipeline.components.feature_preprocessing.FeaturePreprocessorChoice object at 0x7f3a4acaefd0>, 'regressor': <autosklearn.pipeline.components.regression.RegressorChoice object at 0x7f3a9055e640>, 'sklearn_regressor': RandomForestRegressor(max_features=1.0, n_estimators=512, n_jobs=1,\n",
      "                      random_state=1, warm_start=True)}, 5: {'model_id': 5, 'rank': 2, 'cost': 0.1458316841761078, 'ensemble_weight': 0.08000000000000002, 'data_preprocessor': <autosklearn.pipeline.components.data_preprocessing.DataPreprocessorChoice object at 0x7f3a92d4abe0>, 'feature_preprocessor': <autosklearn.pipeline.components.feature_preprocessing.FeaturePreprocessorChoice object at 0x7f3976cfb040>, 'regressor': <autosklearn.pipeline.components.regression.RegressorChoice object at 0x7f3976cfbca0>, 'sklearn_regressor': ARDRegression(alpha_1=0.0005879259823371087, alpha_2=3.410007832100047e-07,\n",
      "              copy_X=False, lambda_1=1.6597956274062097e-05,\n",
      "              lambda_2=9.910691609164284e-10,\n",
      "              threshold_lambda=2203.910297381356, tol=0.006471761365578467)}, 11: {'model_id': 11, 'rank': 3, 'cost': 0.15470519975048602, 'ensemble_weight': 0.08000000000000002, 'data_preprocessor': <autosklearn.pipeline.components.data_preprocessing.DataPreprocessorChoice object at 0x7f3a92c8d310>, 'feature_preprocessor': <autosklearn.pipeline.components.feature_preprocessing.FeaturePreprocessorChoice object at 0x7f3a4ab91220>, 'regressor': <autosklearn.pipeline.components.regression.RegressorChoice object at 0x7f3a4ab91f70>, 'sklearn_regressor': SVR(C=194.03096694114694, epsilon=0.0010214279074797082,\n",
      "    gamma=0.20113065159176252, tol=0.0206281932709369, verbose=0)}, 22: {'model_id': 22, 'rank': 4, 'cost': 0.15438461943716852, 'ensemble_weight': 0.10000000000000002, 'data_preprocessor': <autosklearn.pipeline.components.data_preprocessing.DataPreprocessorChoice object at 0x7f3976f07250>, 'feature_preprocessor': <autosklearn.pipeline.components.feature_preprocessing.FeaturePreprocessorChoice object at 0x7f3976ca2e80>, 'regressor': <autosklearn.pipeline.components.regression.RegressorChoice object at 0x7f3976ca2e50>, 'sklearn_regressor': ExtraTreesRegressor(criterion='friedman_mse', max_features=0.7612289466695656,\n",
      "                    n_estimators=512, n_jobs=1, random_state=1,\n",
      "                    warm_start=True)}, 25: {'model_id': 25, 'rank': 5, 'cost': 0.10855105903301143, 'ensemble_weight': 0.22000000000000003, 'data_preprocessor': <autosklearn.pipeline.components.data_preprocessing.DataPreprocessorChoice object at 0x7f3a0f39ed60>, 'feature_preprocessor': <autosklearn.pipeline.components.feature_preprocessing.FeaturePreprocessorChoice object at 0x7f3a92bca850>, 'regressor': <autosklearn.pipeline.components.regression.RegressorChoice object at 0x7f3a92bca7f0>, 'sklearn_regressor': MLPRegressor(alpha=6.108449182457731e-05, beta_1=0.999, beta_2=0.9,\n",
      "             early_stopping=True, hidden_layer_sizes=(101, 101, 101),\n",
      "             learning_rate_init=0.00027704755935258253, max_iter=64,\n",
      "             n_iter_no_change=32, random_state=1, verbose=0, warm_start=True)}, 28: {'model_id': 28, 'rank': 6, 'cost': 0.16167981643966634, 'ensemble_weight': 0.04000000000000001, 'data_preprocessor': <autosklearn.pipeline.components.data_preprocessing.DataPreprocessorChoice object at 0x7f3a4ab32fa0>, 'feature_preprocessor': <autosklearn.pipeline.components.feature_preprocessing.FeaturePreprocessorChoice object at 0x7f3a92c58bb0>, 'regressor': <autosklearn.pipeline.components.regression.RegressorChoice object at 0x7f3a92c29bb0>, 'sklearn_regressor': ARDRegression(alpha_1=0.0004758267133520949, alpha_2=0.0005527106600623189,\n",
      "              copy_X=False, lambda_1=1.9852381491488104e-10,\n",
      "              lambda_2=0.000268105922493362, threshold_lambda=14774.66990710234,\n",
      "              tol=0.0016221067595280532)}}\n"
     ]
    }
   ],
   "source": [
    "y_pred = automl.predict(X_test)\n",
    "# get the Score of the model\n",
    "# Calculate R2 score as a simple performance metric\n",
    "from sklearn.metrics import r2_score\n",
    "r2 = r2_score(y_test, y_pred)\n",
    "\n",
    "r2\n",
    "\n",
    "show_modes_str=automl.show_models()\n",
    "print(show_modes_str)"
   ]
  },
  {
   "cell_type": "markdown",
   "metadata": {},
   "source": [
    "Show statistical analysis results."
   ]
  },
  {
   "cell_type": "code",
   "execution_count": 7,
   "metadata": {},
   "outputs": [
    {
     "name": "stdout",
     "output_type": "stream",
     "text": [
      "auto-sklearn results:\n",
      "  Dataset name: 92b9f316-d8a7-11ee-8e4b-df51cd2d4e54\n",
      "  Metric: r2\n",
      "  Best validation score: 0.903505\n",
      "  Number of target algorithm runs: 42\n",
      "  Number of successful target algorithm runs: 18\n",
      "  Number of crashed target algorithm runs: 4\n",
      "  Number of target algorithms that exceeded the time limit: 20\n",
      "  Number of target algorithms that exceeded the memory limit: 0\n",
      "\n"
     ]
    }
   ],
   "source": [
    "sprint_statistics_str = automl.sprint_statistics()\n",
    "print(sprint_statistics_str)"
   ]
  },
  {
   "cell_type": "markdown",
   "metadata": {},
   "source": [
    "However, the mean_sqaured_error still shows a huge gap with the normal methods without AutoML"
   ]
  },
  {
   "cell_type": "code",
   "execution_count": 12,
   "metadata": {},
   "outputs": [
    {
     "name": "stdout",
     "output_type": "stream",
     "text": [
      "16096.906203949096\n"
     ]
    }
   ],
   "source": [
    "from sklearn.metrics import mean_squared_error\n",
    "mse = mean_squared_error(y_test, y_pred)\n",
    "print(mse)"
   ]
  }
 ],
 "metadata": {
  "kernelspec": {
   "display_name": "automl",
   "language": "python",
   "name": "python3"
  },
  "language_info": {
   "codemirror_mode": {
    "name": "ipython",
    "version": 3
   },
   "file_extension": ".py",
   "mimetype": "text/x-python",
   "name": "python",
   "nbconvert_exporter": "python",
   "pygments_lexer": "ipython3",
   "version": "3.8.0"
  }
 },
 "nbformat": 4,
 "nbformat_minor": 2
}

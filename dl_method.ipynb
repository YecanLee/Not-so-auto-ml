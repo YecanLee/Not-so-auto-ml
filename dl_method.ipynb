{
 "cells": [
  {
   "cell_type": "code",
   "execution_count": null,
   "metadata": {},
   "outputs": [],
   "source": [
    "import torch\n",
    "from torch.utils.data import DataLoader, TensorDataset\n",
    "from sklearn.model_selection import train_test_split\n",
    "from sklearn.preprocessing import LabelEncoder, MinMaxScaler\n",
    "\n",
    "import pandas as pd\n",
    "import numpy as np\n",
    "\n",
    "# Load the training data\n",
    "train = pd.read_csv('train_new.csv')\n",
    "\n",
    "# Debugging: Display the first few rows of the training data\n",
    "print(train.head())\n",
    "\n",
    "\n",
    "# Handle the missing values, we will first test \n",
    "for i in train.columns:\n",
    "    if train[i].dtype == 'object':\n",
    "        train[i].fillna(train[i].mode()[0], inplace=True)\n",
    "    else:\n",
    "        train[i].fillna(train[i].mean(), inplace=True)\n",
    "\n",
    "# Encoding categorical variables\n",
    "label_encoders = {}\n",
    "for i in train.select_dtypes(include=['object']).columns:\n",
    "    # Skip the ID column\n",
    "    if i != 'ID': \n",
    "        le = LabelEncoder()\n",
    "        train[i] = le.fit_transform(train[i])\n",
    "        label_encoders[i] = le\n",
    "\n",
    "# Convert datetime columns to datetime format and extract year, month, day, try to use this simple preprocessing method first\n",
    "datetime_cols = ['CropTillageDate', 'RcNursEstDate', 'Harv_date', 'Threshing_date']\n",
    "for col in datetime_cols:\n",
    "    train[col] = pd.to_datetime(train[col])\n",
    "    train[col + '_year'] = train[col].dt.year\n",
    "    train[col + '_month'] = train[col].dt.month\n",
    "    train[col + '_day'] = train[col].dt.day\n",
    "\n",
    "# Drop original datetime columns, only use new columns\n",
    "train.drop(columns=datetime_cols, inplace=True)\n",
    "\n",
    "# Normalizing numerical features\n",
    "scaler = MinMaxScaler()\n",
    "numeric_columns = train.select_dtypes(include=[np.number]).columns.drop('Yield')\n",
    "train[numeric_columns] = scaler.fit_transform(train[numeric_columns])\n",
    "\n",
    "# Preparing the data for modeling\n",
    "# Training Features\n",
    "X = train.drop(['ID', 'Yield'], axis=1) \n",
    "# Target Feature\n",
    "y = train['Yield']  \n",
    "\n",
    "# Splitting the dataset into training and validation sets\n",
    "X_train, X_test, y_train, y_test = train_test_split(X, y, test_size=0.2, random_state=42)\n",
    "\n",
    "# Convert arrays to PyTorch tensors\n",
    "X_train_tensor = torch.tensor(X_train, dtype=torch.float32)\n",
    "y_train_tensor = torch.tensor(y_train, dtype=torch.float32).view(-1, 1)\n",
    "X_test_tensor = torch.tensor(X_test, dtype=torch.float32)\n",
    "y_test_tensor = torch.tensor(y_test, dtype=torch.float32).view(-1, 1)\n",
    "\n",
    "# Create DataLoader for both training and testing sets\n",
    "train_dataset = TensorDataset(X_train_tensor, y_train_tensor)\n",
    "test_dataset = TensorDataset(X_test_tensor, y_test_tensor)\n",
    "\n",
    "train_loader = DataLoader(dataset=train_dataset, batch_size=64, shuffle=True)\n",
    "test_loader = DataLoader(dataset=test_dataset, batch_size=64, shuffle=False)"
   ]
  },
  {
   "cell_type": "markdown",
   "metadata": {},
   "source": [
    "According to h2o AutoML pipeline, the MLP model performs much better than we expected, this notebook will concentrate on deep learning methods"
   ]
  },
  {
   "cell_type": "markdown",
   "metadata": {},
   "source": [
    "There are several deep learning methods which can be tested besides simple MLP"
   ]
  },
  {
   "cell_type": "code",
   "execution_count": null,
   "metadata": {},
   "outputs": [],
   "source": [
    "import torch\n",
    "import torch.nn as nn"
   ]
  },
  {
   "cell_type": "markdown",
   "metadata": {},
   "source": [
    "We will start from the simple MLP methods, this works as a baseline and an naive example"
   ]
  },
  {
   "cell_type": "code",
   "execution_count": null,
   "metadata": {},
   "outputs": [],
   "source": [
    "class BasicFNN(nn.Module):\n",
    "    def __init__(self, input_dim):\n",
    "        super(BasicFNN, self).__init__()\n",
    "        self.fc1 = nn.Linear(input_dim, 128)\n",
    "        self.relu = nn.ReLU()\n",
    "        self.fc2 = nn.Linear(128, 64)\n",
    "        self.fc3 = nn.Linear(64, 1)\n",
    "    \n",
    "    def forward(self, x):\n",
    "        x = self.relu(self.fc1(x))\n",
    "        x = self.relu(self.fc2(x))\n",
    "        x = self.fc3(x)\n",
    "        return x\n"
   ]
  },
  {
   "cell_type": "code",
   "execution_count": null,
   "metadata": {},
   "outputs": [],
   "source": [
    "class SimpleMLP(nn.module):\n",
    "    \"\"\"\n",
    "    A super simple MLP to test the power of deep learning\n",
    "    Args:\n",
    "        input_dim: int, the dimension of the input, aka the number of features\n",
    "        hidden_dim: int, the dimension of the hidden layer\n",
    "    Returns:\n",
    "        output: the output of the MLP, aka the prediction\n",
    "    \"\"\"\n",
    "    def __init__(self, \n",
    "                 input_dim:int, \n",
    "                 hidden_dim:int,\n",
    "                 ):\n",
    "        super(SimpleMLP, self).__init__()\n",
    "        self.input_dim = input_dim\n",
    "        self.hidden_dim = hidden_dim\n",
    "        self.fc1 = nn.Linear(input_dim, hidden_dim)\n",
    "        self.fc2 = nn.Linear(hidden_dim, hidden_dim)\n",
    "        self.fc2 = nn.Linear(hidden_dim, 1) \n",
    "        self.dropout = nn.Dropout(0.1)\n",
    "        self.activation = nn.ReLU()  \n",
    "    \n",
    "    def forward(self, x):\n",
    "        pass"
   ]
  },
  {
   "cell_type": "code",
   "execution_count": null,
   "metadata": {},
   "outputs": [],
   "source": [
    "from torch.nn import TransformerEncoder, TransformerEncoderLayer\n",
    "\n",
    "class TabularTransformer(nn.Module):\n",
    "    def __init__(self, input_dim, d_model=64, nhead=2, num_encoder_layers=2, dim_feedforward=128):\n",
    "        super(TabularTransformer, self).__init__()\n",
    "        self.encoder_layer = TransformerEncoderLayer(d_model, nhead, dim_feedforward)\n",
    "        self.transformer_encoder = TransformerEncoder(self.encoder_layer, num_encoder_layers)\n",
    "        self.input_fc = nn.Linear(input_dim, d_model)\n",
    "        self.output_fc = nn.Linear(d_model, 1)\n",
    "    \n",
    "    def forward(self, x):\n",
    "        x = self.input_fc(x)\n",
    "        x = x.unsqueeze(1)  # Add sequence dimension\n",
    "        x = self.transformer_encoder(x)\n",
    "        x = x.squeeze(1)  # Remove sequence dimension\n",
    "        x = self.output_fc(x)\n",
    "        return x"
   ]
  },
  {
   "cell_type": "code",
   "execution_count": null,
   "metadata": {},
   "outputs": [],
   "source": [
    "class UNetTabular(nn.Module):\n",
    "    def __init__(self, input_dim):\n",
    "        super(UNetTabular, self).__init__()\n",
    "        self.down1 = nn.Sequential(nn.Linear(input_dim, 128), nn.ReLU(inplace=True))\n",
    "        self.down2 = nn.Sequential(nn.Linear(128, 64), nn.ReLU(inplace=True))\n",
    "        self.up1 = nn.Sequential(nn.Linear(64, 128), nn.ReLU(inplace=True))\n",
    "        self.up2 = nn.Linear(128, 1)\n",
    "    \n",
    "    def forward(self, x):\n",
    "        x1 = self.down1(x)\n",
    "        x2 = self.down2(x1)\n",
    "        x = self.up1(x2)\n",
    "        x += x1  # Skip connection\n",
    "        x = self.up2(x)\n",
    "        return x"
   ]
  },
  {
   "cell_type": "code",
   "execution_count": null,
   "metadata": {},
   "outputs": [],
   "source": [
    "import torch.nn.functional as F\n",
    "\n",
    "class AttentionBasedFNN(nn.Module):\n",
    "    def __init__(self, input_dim):\n",
    "        super(AttentionBasedFNN, self).__init__()\n",
    "        self.attention_fc = nn.Linear(input_dim, input_dim)\n",
    "        self.fc1 = nn.Linear(input_dim, 128)\n",
    "        self.fc2 = nn.Linear(128, 64)\n",
    "        self.fc3 = nn.Linear(64, 1)\n",
    "    \n",
    "    def forward(self, x):\n",
    "        attention_weights = F.softmax(self.attention_fc(x), dim=1)\n",
    "        x = x * attention_weights\n",
    "        x = F.relu(self.fc1(x))\n",
    "        x = F.relu(self.fc2(x))\n",
    "        return self.fc3(x)"
   ]
  },
  {
   "cell_type": "code",
   "execution_count": null,
   "metadata": {},
   "outputs": [],
   "source": [
    "class GRUForTabular(nn.Module):\n",
    "    def __init__(self, input_dim, hidden_dim=64, num_layers=2):\n",
    "        super(GRUForTabular, self).__init__()\n",
    "        self.gru = nn.GRU(input_dim, hidden_dim, num_layers, batch_first=True)\n",
    "        self.fc = nn.Linear(hidden_dim, 1)\n",
    "    \n",
    "    def forward(self, x):\n",
    "        x, _ = self.gru(x)\n",
    "        x = x[:, -1, :]\n",
    "        x = self.fc(x)\n",
    "        return x"
   ]
  },
  {
   "cell_type": "code",
   "execution_count": null,
   "metadata": {},
   "outputs": [],
   "source": [
    "from torch.nn import MSELoss\n",
    "from torch.optim import Adam\n",
    "\n",
    "input_dim = X_train.shape[1]\n",
    "model = TabularTransformer(input_dim=input_dim)\n",
    "criterion = MSELoss()\n",
    "optimizer = Adam(model.parameters(), lr=0.001)"
   ]
  },
  {
   "cell_type": "code",
   "execution_count": null,
   "metadata": {},
   "outputs": [],
   "source": [
    "num_epochs = 100\n",
    "\n",
    "for epoch in range(num_epochs):\n",
    "    model.train()\n",
    "    for inputs, targets in train_loader:\n",
    "        optimizer.zero_grad()\n",
    "        outputs = model(inputs)\n",
    "        loss = criterion(outputs, targets)\n",
    "        loss.backward()\n",
    "        optimizer.step()\n",
    "    \n",
    "    print(f'Epoch {epoch+1}, Loss: {loss.item()}')"
   ]
  },
  {
   "cell_type": "code",
   "execution_count": null,
   "metadata": {},
   "outputs": [],
   "source": [
    "model.eval()  \n",
    "with torch.no_grad():\n",
    "    correct = 0\n",
    "    total = 0\n",
    "    for inputs, targets in test_loader:\n",
    "        outputs = model(inputs)"
   ]
  },
  {
   "cell_type": "code",
   "execution_count": null,
   "metadata": {},
   "outputs": [],
   "source": [
    "torch.save(model.state_dict(), 'tabular_transformer_model.pth')\n",
    "\n",
    "model = TabularTransformer(input_dim=input_dim)\n",
    "model.load_state_dict(torch.load('tabular_transformer_model.pth'))\n",
    "model.eval()"
   ]
  }
 ],
 "metadata": {
  "kernelspec": {
   "display_name": "uce",
   "language": "python",
   "name": "python3"
  },
  "language_info": {
   "name": "python",
   "version": "3.9.0"
  }
 },
 "nbformat": 4,
 "nbformat_minor": 2
}
